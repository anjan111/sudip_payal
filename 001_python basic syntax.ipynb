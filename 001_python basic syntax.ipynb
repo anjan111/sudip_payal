{
 "cells": [
  {
   "cell_type": "markdown",
   "metadata": {},
   "source": [
    "# python basic syntax\n",
    "\n",
    "\n",
    "# syntax :-\n",
    "\n",
    "====>>> the way of writing / structure for writing the program\n",
    "\n",
    "# program :-\n",
    "\n",
    "===> collection of instruction to do any one specific task\n",
    "\n",
    "# instrution :-\n",
    "\n",
    "===> A line of code with in the program\n",
    "\n",
    "# Types of instruction\n",
    "\n",
    "1. comments \n",
    "\n",
    "    ====> An instruction which can't be executable \n",
    "    \n",
    "    ====> We can use for brief explanation each and every statements\n",
    "    \n",
    "    ====>  single line (  # ) comment\n",
    "    \n",
    "    ====> Multiline comment ( ''' ''')\n",
    "    \n",
    "2. Statements:-\n",
    "\n",
    "    ====> An instruction which can be executable"
   ]
  },
  {
   "cell_type": "code",
   "execution_count": 7,
   "metadata": {},
   "outputs": [
    {
     "name": "stdout",
     "output_type": "stream",
     "text": [
      "hello\n"
     ]
    }
   ],
   "source": [
    "'''\n",
    "this is \n",
    "multiline comment\n",
    "'''\n",
    "# single line comment\n",
    "print \"hello\" # this is statement"
   ]
  },
  {
   "cell_type": "markdown",
   "metadata": {},
   "source": [
    "# keywords\n",
    "\n",
    "===>> The words which are already defiend inside of  the python IDE\n",
    "\n",
    "===>> Each and every keyword is specially designed for some special task\n",
    "\n",
    "===>> All keywords are smaller case letters\n"
   ]
  },
  {
   "cell_type": "code",
   "execution_count": 12,
   "metadata": {},
   "outputs": [
    {
     "name": "stdout",
     "output_type": "stream",
     "text": [
      "['and', 'as', 'assert', 'break', 'class', 'continue', 'def', 'del', 'elif', 'else', 'except', 'exec', 'finally', 'for', 'from', 'global', 'if', 'import', 'in', 'is', 'lambda', 'not', 'or', 'pass', 'print', 'raise', 'return', 'try', 'while', 'with', 'yield']\n",
      "No of keywords :  31\n"
     ]
    }
   ],
   "source": [
    "import keyword as kw\n",
    "print kw.kwlist\n",
    "print \"No of keywords : \",len(kw.kwlist)"
   ]
  },
  {
   "cell_type": "markdown",
   "metadata": {},
   "source": [
    "# Identifier\n",
    "\n",
    "===>> programmer defined words / user defined words\n",
    "\n",
    "===>> Identifiers are used for to give the name entities for Variable. classes and functions\n",
    "\n",
    "# Rules for Indetifiers\n",
    "\n",
    "===> we can use all alphabets   [  a - z / A-Z ]\n",
    "\n",
    "===> we can use digits [0 -9 ]\n",
    "\n",
    "===> we can use underscore [ _ ]\n",
    "\n",
    "===> don't start with digit\n",
    "\n",
    "===> don't use special characters !,@,%\n",
    "\n",
    "===> don't use keywords"
   ]
  },
  {
   "cell_type": "markdown",
   "metadata": {},
   "source": [
    "#  variable :-\n",
    "\n",
    "\n",
    "====> which are identifers which are used for To store data with in memeory\n",
    "\n",
    "====> we don't need to declare the variables \n",
    "\n"
   ]
  },
  {
   "cell_type": "code",
   "execution_count": 14,
   "metadata": {},
   "outputs": [
    {
     "name": "stdout",
     "output_type": "stream",
     "text": [
      "43746896\n",
      "<type 'int'>\n"
     ]
    }
   ],
   "source": [
    "var =123\n",
    "print id(var)# id used for to know the memry loc\n",
    "print type(var) # to know the datatype"
   ]
  },
  {
   "cell_type": "code",
   "execution_count": 17,
   "metadata": {},
   "outputs": [
    {
     "name": "stdout",
     "output_type": "stream",
     "text": [
      "43746896\n",
      "<type 'int'>\n"
     ]
    }
   ],
   "source": [
    "varUYY =123\n",
    "print id(varUYY)# id used for to know the memry loc\n",
    "print type(varUYY) # to know the datatype"
   ]
  },
  {
   "cell_type": "code",
   "execution_count": 19,
   "metadata": {},
   "outputs": [
    {
     "name": "stdout",
     "output_type": "stream",
     "text": [
      "43746896\n",
      "<type 'int'>\n"
     ]
    }
   ],
   "source": [
    "_varUY12Y =123\n",
    "print id(_varUY12Y)# id used for to know the memry loc\n",
    "print type(_varUY12Y) # to know the datatyp"
   ]
  },
  {
   "cell_type": "code",
   "execution_count": 21,
   "metadata": {},
   "outputs": [
    {
     "ename": "SyntaxError",
     "evalue": "invalid syntax (<ipython-input-21-c22f7fdc6005>, line 1)",
     "output_type": "error",
     "traceback": [
      "\u001b[1;36m  File \u001b[1;32m\"<ipython-input-21-c22f7fdc6005>\"\u001b[1;36m, line \u001b[1;32m1\u001b[0m\n\u001b[1;33m    2var =123\u001b[0m\n\u001b[1;37m       ^\u001b[0m\n\u001b[1;31mSyntaxError\u001b[0m\u001b[1;31m:\u001b[0m invalid syntax\n"
     ]
    }
   ],
   "source": [
    "2var =123"
   ]
  },
  {
   "cell_type": "code",
   "execution_count": 23,
   "metadata": {},
   "outputs": [
    {
     "ename": "SyntaxError",
     "evalue": "invalid syntax (<ipython-input-23-5255be4be9ea>, line 1)",
     "output_type": "error",
     "traceback": [
      "\u001b[1;36m  File \u001b[1;32m\"<ipython-input-23-5255be4be9ea>\"\u001b[1;36m, line \u001b[1;32m1\u001b[0m\n\u001b[1;33m    va@s  =133\u001b[0m\n\u001b[1;37m      ^\u001b[0m\n\u001b[1;31mSyntaxError\u001b[0m\u001b[1;31m:\u001b[0m invalid syntax\n"
     ]
    }
   ],
   "source": [
    "va@s  =133"
   ]
  },
  {
   "cell_type": "code",
   "execution_count": 24,
   "metadata": {},
   "outputs": [
    {
     "ename": "SyntaxError",
     "evalue": "invalid syntax (<ipython-input-24-90d8b2eb1da3>, line 1)",
     "output_type": "error",
     "traceback": [
      "\u001b[1;36m  File \u001b[1;32m\"<ipython-input-24-90d8b2eb1da3>\"\u001b[1;36m, line \u001b[1;32m1\u001b[0m\n\u001b[1;33m    print = 123\u001b[0m\n\u001b[1;37m          ^\u001b[0m\n\u001b[1;31mSyntaxError\u001b[0m\u001b[1;31m:\u001b[0m invalid syntax\n"
     ]
    }
   ],
   "source": [
    "print = 123"
   ]
  }
 ],
 "metadata": {
  "kernelspec": {
   "display_name": "Python 2",
   "language": "python",
   "name": "python2"
  },
  "language_info": {
   "codemirror_mode": {
    "name": "ipython",
    "version": 2
   },
   "file_extension": ".py",
   "mimetype": "text/x-python",
   "name": "python",
   "nbconvert_exporter": "python",
   "pygments_lexer": "ipython2",
   "version": "2.7.16"
  }
 },
 "nbformat": 4,
 "nbformat_minor": 2
}
